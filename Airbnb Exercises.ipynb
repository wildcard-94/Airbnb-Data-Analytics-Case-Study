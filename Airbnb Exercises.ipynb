{
 "cells": [
  {
   "cell_type": "code",
   "execution_count": 1,
   "metadata": {},
   "outputs": [],
   "source": [
    "import numpy as np\n",
    "import pandas as pd\n",
    "import matplotlib.pyplot as plt\n",
    "import seaborn as sns"
   ]
  },
  {
   "cell_type": "markdown",
   "metadata": {},
   "source": [
    "# Read the csv and review first 5 rows"
   ]
  },
  {
   "cell_type": "code",
   "execution_count": 2,
   "metadata": {},
   "outputs": [
    {
     "data": {
      "text/html": [
       "<div>\n",
       "<style scoped>\n",
       "    .dataframe tbody tr th:only-of-type {\n",
       "        vertical-align: middle;\n",
       "    }\n",
       "\n",
       "    .dataframe tbody tr th {\n",
       "        vertical-align: top;\n",
       "    }\n",
       "\n",
       "    .dataframe thead th {\n",
       "        text-align: right;\n",
       "    }\n",
       "</style>\n",
       "<table border=\"1\" class=\"dataframe\">\n",
       "  <thead>\n",
       "    <tr style=\"text-align: right;\">\n",
       "      <th></th>\n",
       "      <th>room_id</th>\n",
       "      <th>survey_id</th>\n",
       "      <th>host_id</th>\n",
       "      <th>room_type</th>\n",
       "      <th>country</th>\n",
       "      <th>city</th>\n",
       "      <th>borough</th>\n",
       "      <th>neighborhood</th>\n",
       "      <th>reviews</th>\n",
       "      <th>overall_satisfaction</th>\n",
       "      <th>accommodates</th>\n",
       "      <th>bedrooms</th>\n",
       "      <th>bathrooms</th>\n",
       "      <th>price</th>\n",
       "      <th>minstay</th>\n",
       "      <th>name</th>\n",
       "      <th>last_modified</th>\n",
       "      <th>latitude</th>\n",
       "      <th>longitude</th>\n",
       "      <th>location</th>\n",
       "    </tr>\n",
       "  </thead>\n",
       "  <tbody>\n",
       "    <tr>\n",
       "      <th>0</th>\n",
       "      <td>10176931</td>\n",
       "      <td>1476</td>\n",
       "      <td>49180562</td>\n",
       "      <td>Shared room</td>\n",
       "      <td>NaN</td>\n",
       "      <td>Amsterdam</td>\n",
       "      <td>NaN</td>\n",
       "      <td>De Pijp / Rivierenbuurt</td>\n",
       "      <td>7</td>\n",
       "      <td>4.5</td>\n",
       "      <td>2</td>\n",
       "      <td>1</td>\n",
       "      <td>NaN</td>\n",
       "      <td>156</td>\n",
       "      <td>NaN</td>\n",
       "      <td>Red Light/ Canal view apartment (Shared)</td>\n",
       "      <td>06:27.4</td>\n",
       "      <td>52.356209</td>\n",
       "      <td>4.887491</td>\n",
       "      <td>0101000020E610000033FAD170CA8C13403BC5AA41982D...</td>\n",
       "    </tr>\n",
       "    <tr>\n",
       "      <th>1</th>\n",
       "      <td>8935871</td>\n",
       "      <td>1476</td>\n",
       "      <td>46718394</td>\n",
       "      <td>Shared room</td>\n",
       "      <td>NaN</td>\n",
       "      <td>Amsterdam</td>\n",
       "      <td>NaN</td>\n",
       "      <td>Centrum West</td>\n",
       "      <td>45</td>\n",
       "      <td>4.5</td>\n",
       "      <td>4</td>\n",
       "      <td>1</td>\n",
       "      <td>NaN</td>\n",
       "      <td>126</td>\n",
       "      <td>NaN</td>\n",
       "      <td>Sunny and Cozy Living room in quite neighbours</td>\n",
       "      <td>06:23.6</td>\n",
       "      <td>52.378518</td>\n",
       "      <td>4.896120</td>\n",
       "      <td>0101000020E6100000842A357BA095134042791F477330...</td>\n",
       "    </tr>\n",
       "    <tr>\n",
       "      <th>2</th>\n",
       "      <td>14011697</td>\n",
       "      <td>1476</td>\n",
       "      <td>10346595</td>\n",
       "      <td>Shared room</td>\n",
       "      <td>NaN</td>\n",
       "      <td>Amsterdam</td>\n",
       "      <td>NaN</td>\n",
       "      <td>Watergraafsmeer</td>\n",
       "      <td>1</td>\n",
       "      <td>0.0</td>\n",
       "      <td>3</td>\n",
       "      <td>1</td>\n",
       "      <td>NaN</td>\n",
       "      <td>132</td>\n",
       "      <td>NaN</td>\n",
       "      <td>Amsterdam</td>\n",
       "      <td>06:23.6</td>\n",
       "      <td>52.338811</td>\n",
       "      <td>4.943592</td>\n",
       "      <td>0101000020E6100000A51133FB3CC613403543AA285E2B...</td>\n",
       "    </tr>\n",
       "    <tr>\n",
       "      <th>3</th>\n",
       "      <td>6137978</td>\n",
       "      <td>1476</td>\n",
       "      <td>8685430</td>\n",
       "      <td>Shared room</td>\n",
       "      <td>NaN</td>\n",
       "      <td>Amsterdam</td>\n",
       "      <td>NaN</td>\n",
       "      <td>Centrum West</td>\n",
       "      <td>7</td>\n",
       "      <td>5.0</td>\n",
       "      <td>4</td>\n",
       "      <td>1</td>\n",
       "      <td>NaN</td>\n",
       "      <td>121</td>\n",
       "      <td>NaN</td>\n",
       "      <td>Canal boat RIDE in Amsterdam</td>\n",
       "      <td>06:22.7</td>\n",
       "      <td>52.376319</td>\n",
       "      <td>4.890028</td>\n",
       "      <td>0101000020E6100000DF180280638F134085EE92382B30...</td>\n",
       "    </tr>\n",
       "    <tr>\n",
       "      <th>4</th>\n",
       "      <td>18630616</td>\n",
       "      <td>1476</td>\n",
       "      <td>70191803</td>\n",
       "      <td>Shared room</td>\n",
       "      <td>NaN</td>\n",
       "      <td>Amsterdam</td>\n",
       "      <td>NaN</td>\n",
       "      <td>De Baarsjes / Oud West</td>\n",
       "      <td>1</td>\n",
       "      <td>0.0</td>\n",
       "      <td>2</td>\n",
       "      <td>1</td>\n",
       "      <td>NaN</td>\n",
       "      <td>93</td>\n",
       "      <td>NaN</td>\n",
       "      <td>One room for rent in a three room appartment</td>\n",
       "      <td>06:19.7</td>\n",
       "      <td>52.370384</td>\n",
       "      <td>4.852873</td>\n",
       "      <td>0101000020E6100000CD902A8A57691340187B2FBE682F...</td>\n",
       "    </tr>\n",
       "  </tbody>\n",
       "</table>\n",
       "</div>"
      ],
      "text/plain": [
       "    room_id  survey_id   host_id    room_type  country       city  borough  \\\n",
       "0  10176931       1476  49180562  Shared room      NaN  Amsterdam      NaN   \n",
       "1   8935871       1476  46718394  Shared room      NaN  Amsterdam      NaN   \n",
       "2  14011697       1476  10346595  Shared room      NaN  Amsterdam      NaN   \n",
       "3   6137978       1476   8685430  Shared room      NaN  Amsterdam      NaN   \n",
       "4  18630616       1476  70191803  Shared room      NaN  Amsterdam      NaN   \n",
       "\n",
       "              neighborhood  reviews  overall_satisfaction  accommodates  \\\n",
       "0  De Pijp / Rivierenbuurt        7                   4.5             2   \n",
       "1             Centrum West       45                   4.5             4   \n",
       "2          Watergraafsmeer        1                   0.0             3   \n",
       "3             Centrum West        7                   5.0             4   \n",
       "4   De Baarsjes / Oud West        1                   0.0             2   \n",
       "\n",
       "   bedrooms  bathrooms  price  minstay  \\\n",
       "0         1        NaN    156      NaN   \n",
       "1         1        NaN    126      NaN   \n",
       "2         1        NaN    132      NaN   \n",
       "3         1        NaN    121      NaN   \n",
       "4         1        NaN     93      NaN   \n",
       "\n",
       "                                             name last_modified   latitude  \\\n",
       "0        Red Light/ Canal view apartment (Shared)       06:27.4  52.356209   \n",
       "1  Sunny and Cozy Living room in quite neighbours       06:23.6  52.378518   \n",
       "2                                       Amsterdam       06:23.6  52.338811   \n",
       "3                    Canal boat RIDE in Amsterdam       06:22.7  52.376319   \n",
       "4    One room for rent in a three room appartment       06:19.7  52.370384   \n",
       "\n",
       "   longitude                                           location  \n",
       "0   4.887491  0101000020E610000033FAD170CA8C13403BC5AA41982D...  \n",
       "1   4.896120  0101000020E6100000842A357BA095134042791F477330...  \n",
       "2   4.943592  0101000020E6100000A51133FB3CC613403543AA285E2B...  \n",
       "3   4.890028  0101000020E6100000DF180280638F134085EE92382B30...  \n",
       "4   4.852873  0101000020E6100000CD902A8A57691340187B2FBE682F...  "
      ]
     },
     "execution_count": 2,
     "metadata": {},
     "output_type": "execute_result"
    }
   ],
   "source": [
    "df = pd.read_csv('airbnb prices.csv')\n",
    "\n",
    "df.head(5)"
   ]
  },
  {
   "cell_type": "markdown",
   "metadata": {},
   "source": [
    "# review last 5 rows"
   ]
  },
  {
   "cell_type": "code",
   "execution_count": 3,
   "metadata": {},
   "outputs": [
    {
     "data": {
      "text/html": [
       "<div>\n",
       "<style scoped>\n",
       "    .dataframe tbody tr th:only-of-type {\n",
       "        vertical-align: middle;\n",
       "    }\n",
       "\n",
       "    .dataframe tbody tr th {\n",
       "        vertical-align: top;\n",
       "    }\n",
       "\n",
       "    .dataframe thead th {\n",
       "        text-align: right;\n",
       "    }\n",
       "</style>\n",
       "<table border=\"1\" class=\"dataframe\">\n",
       "  <thead>\n",
       "    <tr style=\"text-align: right;\">\n",
       "      <th></th>\n",
       "      <th>room_id</th>\n",
       "      <th>survey_id</th>\n",
       "      <th>host_id</th>\n",
       "      <th>room_type</th>\n",
       "      <th>country</th>\n",
       "      <th>city</th>\n",
       "      <th>borough</th>\n",
       "      <th>neighborhood</th>\n",
       "      <th>reviews</th>\n",
       "      <th>overall_satisfaction</th>\n",
       "      <th>accommodates</th>\n",
       "      <th>bedrooms</th>\n",
       "      <th>bathrooms</th>\n",
       "      <th>price</th>\n",
       "      <th>minstay</th>\n",
       "      <th>name</th>\n",
       "      <th>last_modified</th>\n",
       "      <th>latitude</th>\n",
       "      <th>longitude</th>\n",
       "      <th>location</th>\n",
       "    </tr>\n",
       "  </thead>\n",
       "  <tbody>\n",
       "    <tr>\n",
       "      <th>18718</th>\n",
       "      <td>17789893</td>\n",
       "      <td>1476</td>\n",
       "      <td>47501089</td>\n",
       "      <td>Private room</td>\n",
       "      <td>NaN</td>\n",
       "      <td>Amsterdam</td>\n",
       "      <td>NaN</td>\n",
       "      <td>Bijlmer Centrum</td>\n",
       "      <td>10</td>\n",
       "      <td>5.0</td>\n",
       "      <td>3</td>\n",
       "      <td>1</td>\n",
       "      <td>NaN</td>\n",
       "      <td>32</td>\n",
       "      <td>NaN</td>\n",
       "      <td>1-3 pers. Cozy Rm AFAS Live, ArenA, ZIGGODOME</td>\n",
       "      <td>05:14.2</td>\n",
       "      <td>52.319794</td>\n",
       "      <td>4.955638</td>\n",
       "      <td>0101000020E6100000684293C492D2134080BA8102EF28...</td>\n",
       "    </tr>\n",
       "    <tr>\n",
       "      <th>18719</th>\n",
       "      <td>16877166</td>\n",
       "      <td>1476</td>\n",
       "      <td>67093870</td>\n",
       "      <td>Private room</td>\n",
       "      <td>NaN</td>\n",
       "      <td>Amsterdam</td>\n",
       "      <td>NaN</td>\n",
       "      <td>Bijlmer Centrum</td>\n",
       "      <td>6</td>\n",
       "      <td>5.0</td>\n",
       "      <td>4</td>\n",
       "      <td>1</td>\n",
       "      <td>NaN</td>\n",
       "      <td>24</td>\n",
       "      <td>NaN</td>\n",
       "      <td>Modern Room by Arena, ZIGGO, HmH</td>\n",
       "      <td>05:14.2</td>\n",
       "      <td>52.319080</td>\n",
       "      <td>4.954822</td>\n",
       "      <td>0101000020E61000005801BEDBBCD1134062670A9DD728...</td>\n",
       "    </tr>\n",
       "    <tr>\n",
       "      <th>18720</th>\n",
       "      <td>19859427</td>\n",
       "      <td>1476</td>\n",
       "      <td>29724632</td>\n",
       "      <td>Private room</td>\n",
       "      <td>NaN</td>\n",
       "      <td>Amsterdam</td>\n",
       "      <td>NaN</td>\n",
       "      <td>Geuzenveld / Slotermeer</td>\n",
       "      <td>0</td>\n",
       "      <td>0.0</td>\n",
       "      <td>1</td>\n",
       "      <td>1</td>\n",
       "      <td>NaN</td>\n",
       "      <td>38</td>\n",
       "      <td>NaN</td>\n",
       "      <td>Private single room</td>\n",
       "      <td>05:14.1</td>\n",
       "      <td>52.384028</td>\n",
       "      <td>4.838403</td>\n",
       "      <td>0101000020E61000002079E750865A1340C85F5AD42731...</td>\n",
       "    </tr>\n",
       "    <tr>\n",
       "      <th>18721</th>\n",
       "      <td>17132164</td>\n",
       "      <td>1476</td>\n",
       "      <td>115156569</td>\n",
       "      <td>Private room</td>\n",
       "      <td>NaN</td>\n",
       "      <td>Amsterdam</td>\n",
       "      <td>NaN</td>\n",
       "      <td>Centrum West</td>\n",
       "      <td>13</td>\n",
       "      <td>4.5</td>\n",
       "      <td>2</td>\n",
       "      <td>1</td>\n",
       "      <td>NaN</td>\n",
       "      <td>36</td>\n",
       "      <td>NaN</td>\n",
       "      <td>City Center studio in Touristic Amsterdam 1</td>\n",
       "      <td>05:14.1</td>\n",
       "      <td>52.372120</td>\n",
       "      <td>4.890982</td>\n",
       "      <td>0101000020E6100000774CDD955D9013400118CFA0A12F...</td>\n",
       "    </tr>\n",
       "    <tr>\n",
       "      <th>18722</th>\n",
       "      <td>7605782</td>\n",
       "      <td>1476</td>\n",
       "      <td>39503013</td>\n",
       "      <td>Private room</td>\n",
       "      <td>NaN</td>\n",
       "      <td>Amsterdam</td>\n",
       "      <td>NaN</td>\n",
       "      <td>Centrum West</td>\n",
       "      <td>113</td>\n",
       "      <td>4.5</td>\n",
       "      <td>2</td>\n",
       "      <td>1</td>\n",
       "      <td>NaN</td>\n",
       "      <td>35</td>\n",
       "      <td>NaN</td>\n",
       "      <td>I have a room available for rent</td>\n",
       "      <td>05:12.3</td>\n",
       "      <td>52.381392</td>\n",
       "      <td>4.899658</td>\n",
       "      <td>0101000020E6100000CD565EF23F9913405F7AFB73D130...</td>\n",
       "    </tr>\n",
       "  </tbody>\n",
       "</table>\n",
       "</div>"
      ],
      "text/plain": [
       "        room_id  survey_id    host_id     room_type  country       city  \\\n",
       "18718  17789893       1476   47501089  Private room      NaN  Amsterdam   \n",
       "18719  16877166       1476   67093870  Private room      NaN  Amsterdam   \n",
       "18720  19859427       1476   29724632  Private room      NaN  Amsterdam   \n",
       "18721  17132164       1476  115156569  Private room      NaN  Amsterdam   \n",
       "18722   7605782       1476   39503013  Private room      NaN  Amsterdam   \n",
       "\n",
       "       borough             neighborhood  reviews  overall_satisfaction  \\\n",
       "18718      NaN          Bijlmer Centrum       10                   5.0   \n",
       "18719      NaN          Bijlmer Centrum        6                   5.0   \n",
       "18720      NaN  Geuzenveld / Slotermeer        0                   0.0   \n",
       "18721      NaN             Centrum West       13                   4.5   \n",
       "18722      NaN             Centrum West      113                   4.5   \n",
       "\n",
       "       accommodates  bedrooms  bathrooms  price  minstay  \\\n",
       "18718             3         1        NaN     32      NaN   \n",
       "18719             4         1        NaN     24      NaN   \n",
       "18720             1         1        NaN     38      NaN   \n",
       "18721             2         1        NaN     36      NaN   \n",
       "18722             2         1        NaN     35      NaN   \n",
       "\n",
       "                                                name last_modified   latitude  \\\n",
       "18718  1-3 pers. Cozy Rm AFAS Live, ArenA, ZIGGODOME       05:14.2  52.319794   \n",
       "18719               Modern Room by Arena, ZIGGO, HmH       05:14.2  52.319080   \n",
       "18720                            Private single room       05:14.1  52.384028   \n",
       "18721    City Center studio in Touristic Amsterdam 1       05:14.1  52.372120   \n",
       "18722               I have a room available for rent       05:12.3  52.381392   \n",
       "\n",
       "       longitude                                           location  \n",
       "18718   4.955638  0101000020E6100000684293C492D2134080BA8102EF28...  \n",
       "18719   4.954822  0101000020E61000005801BEDBBCD1134062670A9DD728...  \n",
       "18720   4.838403  0101000020E61000002079E750865A1340C85F5AD42731...  \n",
       "18721   4.890982  0101000020E6100000774CDD955D9013400118CFA0A12F...  \n",
       "18722   4.899658  0101000020E6100000CD565EF23F9913405F7AFB73D130...  "
      ]
     },
     "execution_count": 3,
     "metadata": {},
     "output_type": "execute_result"
    }
   ],
   "source": [
    "df.tail(5)"
   ]
  },
  {
   "cell_type": "markdown",
   "metadata": {},
   "source": [
    "# what are the room_type available ?"
   ]
  },
  {
   "cell_type": "code",
   "execution_count": 4,
   "metadata": {},
   "outputs": [
    {
     "data": {
      "text/plain": [
       "Entire home/apt    14978\n",
       "Private room        3682\n",
       "Shared room           63\n",
       "Name: room_type, dtype: int64"
      ]
     },
     "execution_count": 4,
     "metadata": {},
     "output_type": "execute_result"
    }
   ],
   "source": [
    "df.room_type.value_counts()"
   ]
  },
  {
   "cell_type": "markdown",
   "metadata": {},
   "source": [
    "# Drop the shared room type as its count is very low compare to others"
   ]
  },
  {
   "cell_type": "code",
   "execution_count": 5,
   "metadata": {
    "scrolled": true
   },
   "outputs": [
    {
     "data": {
      "text/plain": [
       "Entire home/apt    14978\n",
       "Private room        3682\n",
       "Name: room_type, dtype: int64"
      ]
     },
     "execution_count": 5,
     "metadata": {},
     "output_type": "execute_result"
    }
   ],
   "source": [
    "sharedroom = df[(df['room_type'] == 'Shared room')].index\n",
    "df.drop(sharedroom,inplace=True)\n",
    "df['room_type'].value_counts()"
   ]
  },
  {
   "cell_type": "markdown",
   "metadata": {},
   "source": [
    "# How popular is the neighborhood and Take a count of each  "
   ]
  },
  {
   "cell_type": "code",
   "execution_count": 6,
   "metadata": {},
   "outputs": [
    {
     "data": {
      "text/plain": [
       "De Baarsjes / Oud West                    3280\n",
       "De Pijp / Rivierenbuurt                   2371\n",
       "Centrum West                              2217\n",
       "Centrum Oost                              1724\n",
       "Westerpark                                1424\n",
       "Noord-West / Noord-Midden                 1416\n",
       "Oud Oost                                  1167\n",
       "Bos en Lommer                              985\n",
       "Oostelijk Havengebied / Indische Buurt     916\n",
       "Watergraafsmeer                            515\n",
       "Oud Noord                                  492\n",
       "Ijburg / Eiland Zeeburg                    378\n",
       "Slotervaart                                346\n",
       "Buitenveldert / Zuidas                     248\n",
       "Noord West                                 241\n",
       "Noord Oost                                 221\n",
       "Geuzenveld / Slotermeer                    192\n",
       "Osdorp                                     161\n",
       "De Aker / Nieuw Sloten                     114\n",
       "Bijlmer Centrum                             98\n",
       "Bijlmer Oost                                97\n",
       "Gaasperdam / Driemond                       42\n",
       "Westpoort                                   15\n",
       "Name: neighborhood, dtype: int64"
      ]
     },
     "execution_count": 6,
     "metadata": {},
     "output_type": "execute_result"
    }
   ],
   "source": [
    "df['neighborhood'].value_counts()"
   ]
  },
  {
   "cell_type": "code",
   "execution_count": null,
   "metadata": {},
   "outputs": [],
   "source": []
  },
  {
   "cell_type": "code",
   "execution_count": 7,
   "metadata": {},
   "outputs": [
    {
     "data": {
      "image/png": "[encoded data removed]",
      "text/plain": [
       "<Figure size 720x560 with 1 Axes>"
      ]
     },
     "metadata": {
      "needs_background": "light"
     },
     "output_type": "display_data"
    }
   ],
   "source": [
    "\n",
    "\n",
    "x = df.neighborhood.value_counts(ascending=False)\n",
    "\n",
    "fig = plt.figure(figsize=(9, 7), dpi = 80)\n",
    "fig.subplots_adjust(left=0, bottom=0.2, right=0.9)\n",
    "\n",
    "ax = fig.add_subplot(111)\n",
    "ax.set_title('Popularity of Neighborhood',fontsize=15)\n",
    "ax.set_xlabel('Neighborhood',fontsize=15)\n",
    "ax.set_ylabel('Record',fontsize=15)\n",
    "rects1 = plt.bar(x.index[:10],x[:10], label='d')\n",
    "\n",
    "plt.xticks(rotation=30,fontsize=8)\n",
    "\n",
    "\n",
    "plt.show()\n",
    "\n"
   ]
  },
  {
   "cell_type": "markdown",
   "metadata": {},
   "source": [
    "# Number of reviews that is given "
   ]
  },
  {
   "cell_type": "code",
   "execution_count": 8,
   "metadata": {
    "scrolled": true
   },
   "outputs": [
    {
     "data": {
      "text/plain": [
       "neighborhood\n",
       "De Baarsjes / Oud West                    52584\n",
       "Centrum West                              51914\n",
       "Centrum Oost                              37187\n",
       "De Pijp / Rivierenbuurt                   35386\n",
       "Westerpark                                23201\n",
       "Noord-West / Noord-Midden                 19095\n",
       "Oud Oost                                  15604\n",
       "Bos en Lommer                             15401\n",
       "Oostelijk Havengebied / Indische Buurt    13192\n",
       "Oud Noord                                  8588\n",
       "Watergraafsmeer                            6301\n",
       "Slotervaart                                5416\n",
       "Noord West                                 4617\n",
       "Ijburg / Eiland Zeeburg                    4598\n",
       "Noord Oost                                 3624\n",
       "De Aker / Nieuw Sloten                     3128\n",
       "Geuzenveld / Slotermeer                    3073\n",
       "Buitenveldert / Zuidas                     2806\n",
       "Osdorp                                     2781\n",
       "Bijlmer Centrum                            1551\n",
       "Bijlmer Oost                               1462\n",
       "Gaasperdam / Driemond                       450\n",
       "Westpoort                                   208\n",
       "Name: reviews, dtype: int64"
      ]
     },
     "execution_count": 8,
     "metadata": {},
     "output_type": "execute_result"
    }
   ],
   "source": [
    "#df['neighborhood'].unique()\n",
    "df.groupby(['neighborhood']).sum()['reviews'].sort_values(ascending=False)\n"
   ]
  },
  {
   "cell_type": "markdown",
   "metadata": {},
   "source": [
    "# overall_satisfaction count by each "
   ]
  },
  {
   "cell_type": "code",
   "execution_count": 9,
   "metadata": {},
   "outputs": [
    {
     "data": {
      "text/plain": [
       "5.0    7697\n",
       "0.0    5721\n",
       "4.5    4543\n",
       "4.0     573\n",
       "3.5     105\n",
       "3.0      19\n",
       "2.5       1\n",
       "1.0       1\n",
       "Name: overall_satisfaction, dtype: int64"
      ]
     },
     "execution_count": 9,
     "metadata": {},
     "output_type": "execute_result"
    }
   ],
   "source": [
    "df['overall_satisfaction'].value_counts() #"
   ]
  },
  {
   "cell_type": "markdown",
   "metadata": {},
   "source": [
    "# Create sub dataset where overall satisfaction is zero"
   ]
  },
  {
   "cell_type": "code",
   "execution_count": 10,
   "metadata": {},
   "outputs": [
    {
     "data": {
      "text/plain": [
       "(5721, 20)"
      ]
     },
     "execution_count": 10,
     "metadata": {},
     "output_type": "execute_result"
    }
   ],
   "source": [
    "df2 = df[df['overall_satisfaction']==0.0] \n",
    "df2.shape"
   ]
  },
  {
   "cell_type": "code",
   "execution_count": 11,
   "metadata": {},
   "outputs": [
    {
     "data": {
      "text/html": [
       "<div>\n",
       "<style scoped>\n",
       "    .dataframe tbody tr th:only-of-type {\n",
       "        vertical-align: middle;\n",
       "    }\n",
       "\n",
       "    .dataframe tbody tr th {\n",
       "        vertical-align: top;\n",
       "    }\n",
       "\n",
       "    .dataframe thead th {\n",
       "        text-align: right;\n",
       "    }\n",
       "</style>\n",
       "<table border=\"1\" class=\"dataframe\">\n",
       "  <thead>\n",
       "    <tr style=\"text-align: right;\">\n",
       "      <th></th>\n",
       "      <th>room_id</th>\n",
       "      <th>survey_id</th>\n",
       "      <th>host_id</th>\n",
       "      <th>room_type</th>\n",
       "      <th>country</th>\n",
       "      <th>city</th>\n",
       "      <th>borough</th>\n",
       "      <th>neighborhood</th>\n",
       "      <th>reviews</th>\n",
       "      <th>overall_satisfaction</th>\n",
       "      <th>accommodates</th>\n",
       "      <th>bedrooms</th>\n",
       "      <th>bathrooms</th>\n",
       "      <th>price</th>\n",
       "      <th>minstay</th>\n",
       "      <th>name</th>\n",
       "      <th>last_modified</th>\n",
       "      <th>latitude</th>\n",
       "      <th>longitude</th>\n",
       "      <th>location</th>\n",
       "    </tr>\n",
       "  </thead>\n",
       "  <tbody>\n",
       "    <tr>\n",
       "      <th>34</th>\n",
       "      <td>3119298</td>\n",
       "      <td>1476</td>\n",
       "      <td>15847782</td>\n",
       "      <td>Entire home/apt</td>\n",
       "      <td>NaN</td>\n",
       "      <td>Amsterdam</td>\n",
       "      <td>NaN</td>\n",
       "      <td>Westerpark</td>\n",
       "      <td>1</td>\n",
       "      <td>0.0</td>\n",
       "      <td>8</td>\n",
       "      <td>3</td>\n",
       "      <td>NaN</td>\n",
       "      <td>445</td>\n",
       "      <td>NaN</td>\n",
       "      <td>Modern 5-8 person apartment</td>\n",
       "      <td>58:15.9</td>\n",
       "      <td>52.377581</td>\n",
       "      <td>4.873119</td>\n",
       "      <td>0101000020E61000009D103AE8127E1340A54BFF925430...</td>\n",
       "    </tr>\n",
       "    <tr>\n",
       "      <th>36</th>\n",
       "      <td>10511291</td>\n",
       "      <td>1476</td>\n",
       "      <td>5421078</td>\n",
       "      <td>Entire home/apt</td>\n",
       "      <td>NaN</td>\n",
       "      <td>Amsterdam</td>\n",
       "      <td>NaN</td>\n",
       "      <td>Watergraafsmeer</td>\n",
       "      <td>1</td>\n",
       "      <td>0.0</td>\n",
       "      <td>8</td>\n",
       "      <td>3</td>\n",
       "      <td>NaN</td>\n",
       "      <td>1412</td>\n",
       "      <td>NaN</td>\n",
       "      <td>Whole house 200m2 Frankendael Park</td>\n",
       "      <td>30:42.2</td>\n",
       "      <td>52.350968</td>\n",
       "      <td>4.929821</td>\n",
       "      <td>0101000020E61000003B8908FF22B81340A5F8F884EC2C...</td>\n",
       "    </tr>\n",
       "    <tr>\n",
       "      <th>37</th>\n",
       "      <td>18047871</td>\n",
       "      <td>1476</td>\n",
       "      <td>9302267</td>\n",
       "      <td>Entire home/apt</td>\n",
       "      <td>NaN</td>\n",
       "      <td>Amsterdam</td>\n",
       "      <td>NaN</td>\n",
       "      <td>Centrum West</td>\n",
       "      <td>0</td>\n",
       "      <td>0.0</td>\n",
       "      <td>4</td>\n",
       "      <td>4</td>\n",
       "      <td>NaN</td>\n",
       "      <td>541</td>\n",
       "      <td>NaN</td>\n",
       "      <td>Great 4 bedroom apartment at the flower market</td>\n",
       "      <td>30:27.6</td>\n",
       "      <td>52.367890</td>\n",
       "      <td>4.889273</td>\n",
       "      <td>0101000020E6100000FDDCD0949D8E13404243FF04172F...</td>\n",
       "    </tr>\n",
       "    <tr>\n",
       "      <th>38</th>\n",
       "      <td>7468232</td>\n",
       "      <td>1476</td>\n",
       "      <td>7215538</td>\n",
       "      <td>Entire home/apt</td>\n",
       "      <td>NaN</td>\n",
       "      <td>Amsterdam</td>\n",
       "      <td>NaN</td>\n",
       "      <td>Noord-West / Noord-Midden</td>\n",
       "      <td>2</td>\n",
       "      <td>0.0</td>\n",
       "      <td>4</td>\n",
       "      <td>2</td>\n",
       "      <td>NaN</td>\n",
       "      <td>594</td>\n",
       "      <td>NaN</td>\n",
       "      <td>MuseumSquare apartment with garden</td>\n",
       "      <td>30:27.6</td>\n",
       "      <td>52.355169</td>\n",
       "      <td>4.883219</td>\n",
       "      <td>0101000020E6100000C4D2C08F6A881340C9C6832D762D...</td>\n",
       "    </tr>\n",
       "    <tr>\n",
       "      <th>40</th>\n",
       "      <td>5818567</td>\n",
       "      <td>1476</td>\n",
       "      <td>29561840</td>\n",
       "      <td>Entire home/apt</td>\n",
       "      <td>NaN</td>\n",
       "      <td>Amsterdam</td>\n",
       "      <td>NaN</td>\n",
       "      <td>De Aker / Nieuw Sloten</td>\n",
       "      <td>0</td>\n",
       "      <td>0.0</td>\n",
       "      <td>4</td>\n",
       "      <td>2</td>\n",
       "      <td>NaN</td>\n",
       "      <td>361</td>\n",
       "      <td>NaN</td>\n",
       "      <td>Luxurous, modern, bright appartment</td>\n",
       "      <td>29:20.7</td>\n",
       "      <td>52.346007</td>\n",
       "      <td>4.811830</td>\n",
       "      <td>0101000020E61000008FA50F5D503F1340F29716F5492C...</td>\n",
       "    </tr>\n",
       "  </tbody>\n",
       "</table>\n",
       "</div>"
      ],
      "text/plain": [
       "     room_id  survey_id   host_id        room_type  country       city  \\\n",
       "34   3119298       1476  15847782  Entire home/apt      NaN  Amsterdam   \n",
       "36  10511291       1476   5421078  Entire home/apt      NaN  Amsterdam   \n",
       "37  18047871       1476   9302267  Entire home/apt      NaN  Amsterdam   \n",
       "38   7468232       1476   7215538  Entire home/apt      NaN  Amsterdam   \n",
       "40   5818567       1476  29561840  Entire home/apt      NaN  Amsterdam   \n",
       "\n",
       "    borough               neighborhood  reviews  overall_satisfaction  \\\n",
       "34      NaN                 Westerpark        1                   0.0   \n",
       "36      NaN            Watergraafsmeer        1                   0.0   \n",
       "37      NaN               Centrum West        0                   0.0   \n",
       "38      NaN  Noord-West / Noord-Midden        2                   0.0   \n",
       "40      NaN     De Aker / Nieuw Sloten        0                   0.0   \n",
       "\n",
       "    accommodates  bedrooms  bathrooms  price  minstay  \\\n",
       "34             8         3        NaN    445      NaN   \n",
       "36             8         3        NaN   1412      NaN   \n",
       "37             4         4        NaN    541      NaN   \n",
       "38             4         2        NaN    594      NaN   \n",
       "40             4         2        NaN    361      NaN   \n",
       "\n",
       "                                              name last_modified   latitude  \\\n",
       "34                     Modern 5-8 person apartment       58:15.9  52.377581   \n",
       "36              Whole house 200m2 Frankendael Park       30:42.2  52.350968   \n",
       "37  Great 4 bedroom apartment at the flower market       30:27.6  52.367890   \n",
       "38              MuseumSquare apartment with garden       30:27.6  52.355169   \n",
       "40             Luxurous, modern, bright appartment       29:20.7  52.346007   \n",
       "\n",
       "    longitude                                           location  \n",
       "34   4.873119  0101000020E61000009D103AE8127E1340A54BFF925430...  \n",
       "36   4.929821  0101000020E61000003B8908FF22B81340A5F8F884EC2C...  \n",
       "37   4.889273  0101000020E6100000FDDCD0949D8E13404243FF04172F...  \n",
       "38   4.883219  0101000020E6100000C4D2C08F6A881340C9C6832D762D...  \n",
       "40   4.811830  0101000020E61000008FA50F5D503F1340F29716F5492C...  "
      ]
     },
     "execution_count": 11,
     "metadata": {},
     "output_type": "execute_result"
    }
   ],
   "source": [
    "df2.head(5)"
   ]
  },
  {
   "cell_type": "markdown",
   "metadata": {},
   "source": [
    "# Describe the dataset\n",
    "- There is 18660 place for rental\n",
    "- We can see below that the minimum prices in amesterdam was `$12` and the maximum is `$6000` per day \n",
    "- The average price of amesterdam reagion `$166` \n"
   ]
  },
  {
   "cell_type": "code",
   "execution_count": 12,
   "metadata": {},
   "outputs": [
    {
     "data": {
      "text/html": [
       "<div>\n",
       "<style scoped>\n",
       "    .dataframe tbody tr th:only-of-type {\n",
       "        vertical-align: middle;\n",
       "    }\n",
       "\n",
       "    .dataframe tbody tr th {\n",
       "        vertical-align: top;\n",
       "    }\n",
       "\n",
       "    .dataframe thead th {\n",
       "        text-align: right;\n",
       "    }\n",
       "</style>\n",
       "<table border=\"1\" class=\"dataframe\">\n",
       "  <thead>\n",
       "    <tr style=\"text-align: right;\">\n",
       "      <th></th>\n",
       "      <th>room_id</th>\n",
       "      <th>survey_id</th>\n",
       "      <th>host_id</th>\n",
       "      <th>country</th>\n",
       "      <th>borough</th>\n",
       "      <th>reviews</th>\n",
       "      <th>overall_satisfaction</th>\n",
       "      <th>accommodates</th>\n",
       "      <th>bedrooms</th>\n",
       "      <th>bathrooms</th>\n",
       "      <th>price</th>\n",
       "      <th>minstay</th>\n",
       "      <th>latitude</th>\n",
       "      <th>longitude</th>\n",
       "    </tr>\n",
       "  </thead>\n",
       "  <tbody>\n",
       "    <tr>\n",
       "      <th>count</th>\n",
       "      <td>1.866000e+04</td>\n",
       "      <td>18660.0</td>\n",
       "      <td>1.866000e+04</td>\n",
       "      <td>0.0</td>\n",
       "      <td>0.0</td>\n",
       "      <td>18660.000000</td>\n",
       "      <td>18660.000000</td>\n",
       "      <td>18660.000000</td>\n",
       "      <td>18660.000000</td>\n",
       "      <td>0.0</td>\n",
       "      <td>18660.000000</td>\n",
       "      <td>0.0</td>\n",
       "      <td>18660.000000</td>\n",
       "      <td>18660.000000</td>\n",
       "    </tr>\n",
       "    <tr>\n",
       "      <th>mean</th>\n",
       "      <td>1.120262e+07</td>\n",
       "      <td>1476.0</td>\n",
       "      <td>3.575860e+07</td>\n",
       "      <td>NaN</td>\n",
       "      <td>NaN</td>\n",
       "      <td>16.729207</td>\n",
       "      <td>3.303778</td>\n",
       "      <td>2.921543</td>\n",
       "      <td>1.431833</td>\n",
       "      <td>NaN</td>\n",
       "      <td>166.811897</td>\n",
       "      <td>NaN</td>\n",
       "      <td>52.365261</td>\n",
       "      <td>4.888606</td>\n",
       "    </tr>\n",
       "    <tr>\n",
       "      <th>std</th>\n",
       "      <td>6.084245e+06</td>\n",
       "      <td>0.0</td>\n",
       "      <td>3.758082e+07</td>\n",
       "      <td>NaN</td>\n",
       "      <td>NaN</td>\n",
       "      <td>33.506653</td>\n",
       "      <td>2.213003</td>\n",
       "      <td>1.319141</td>\n",
       "      <td>0.880145</td>\n",
       "      <td>NaN</td>\n",
       "      <td>108.961385</td>\n",
       "      <td>NaN</td>\n",
       "      <td>0.015141</td>\n",
       "      <td>0.034530</td>\n",
       "    </tr>\n",
       "    <tr>\n",
       "      <th>min</th>\n",
       "      <td>2.818000e+03</td>\n",
       "      <td>1476.0</td>\n",
       "      <td>2.234000e+03</td>\n",
       "      <td>NaN</td>\n",
       "      <td>NaN</td>\n",
       "      <td>0.000000</td>\n",
       "      <td>0.000000</td>\n",
       "      <td>1.000000</td>\n",
       "      <td>0.000000</td>\n",
       "      <td>NaN</td>\n",
       "      <td>12.000000</td>\n",
       "      <td>NaN</td>\n",
       "      <td>52.296200</td>\n",
       "      <td>4.763264</td>\n",
       "    </tr>\n",
       "    <tr>\n",
       "      <th>25%</th>\n",
       "      <td>6.047014e+06</td>\n",
       "      <td>1476.0</td>\n",
       "      <td>7.125411e+06</td>\n",
       "      <td>NaN</td>\n",
       "      <td>NaN</td>\n",
       "      <td>2.000000</td>\n",
       "      <td>0.000000</td>\n",
       "      <td>2.000000</td>\n",
       "      <td>1.000000</td>\n",
       "      <td>NaN</td>\n",
       "      <td>108.000000</td>\n",
       "      <td>NaN</td>\n",
       "      <td>52.355252</td>\n",
       "      <td>4.864372</td>\n",
       "    </tr>\n",
       "    <tr>\n",
       "      <th>50%</th>\n",
       "      <td>1.228306e+07</td>\n",
       "      <td>1476.0</td>\n",
       "      <td>1.987107e+07</td>\n",
       "      <td>NaN</td>\n",
       "      <td>NaN</td>\n",
       "      <td>6.000000</td>\n",
       "      <td>4.500000</td>\n",
       "      <td>2.000000</td>\n",
       "      <td>1.000000</td>\n",
       "      <td>NaN</td>\n",
       "      <td>144.000000</td>\n",
       "      <td>NaN</td>\n",
       "      <td>52.364623</td>\n",
       "      <td>4.885995</td>\n",
       "    </tr>\n",
       "    <tr>\n",
       "      <th>75%</th>\n",
       "      <td>1.661017e+07</td>\n",
       "      <td>1476.0</td>\n",
       "      <td>5.201818e+07</td>\n",
       "      <td>NaN</td>\n",
       "      <td>NaN</td>\n",
       "      <td>17.000000</td>\n",
       "      <td>5.000000</td>\n",
       "      <td>4.000000</td>\n",
       "      <td>2.000000</td>\n",
       "      <td>NaN</td>\n",
       "      <td>192.000000</td>\n",
       "      <td>NaN</td>\n",
       "      <td>52.374789</td>\n",
       "      <td>4.907502</td>\n",
       "    </tr>\n",
       "    <tr>\n",
       "      <th>max</th>\n",
       "      <td>2.000373e+07</td>\n",
       "      <td>1476.0</td>\n",
       "      <td>1.418319e+08</td>\n",
       "      <td>NaN</td>\n",
       "      <td>NaN</td>\n",
       "      <td>532.000000</td>\n",
       "      <td>5.000000</td>\n",
       "      <td>17.000000</td>\n",
       "      <td>10.000000</td>\n",
       "      <td>NaN</td>\n",
       "      <td>6000.000000</td>\n",
       "      <td>NaN</td>\n",
       "      <td>52.424980</td>\n",
       "      <td>5.027689</td>\n",
       "    </tr>\n",
       "  </tbody>\n",
       "</table>\n",
       "</div>"
      ],
      "text/plain": [
       "            room_id  survey_id       host_id  country  borough       reviews  \\\n",
       "count  1.866000e+04    18660.0  1.866000e+04      0.0      0.0  18660.000000   \n",
       "mean   1.120262e+07     1476.0  3.575860e+07      NaN      NaN     16.729207   \n",
       "std    6.084245e+06        0.0  3.758082e+07      NaN      NaN     33.506653   \n",
       "min    2.818000e+03     1476.0  2.234000e+03      NaN      NaN      0.000000   \n",
       "25%    6.047014e+06     1476.0  7.125411e+06      NaN      NaN      2.000000   \n",
       "50%    1.228306e+07     1476.0  1.987107e+07      NaN      NaN      6.000000   \n",
       "75%    1.661017e+07     1476.0  5.201818e+07      NaN      NaN     17.000000   \n",
       "max    2.000373e+07     1476.0  1.418319e+08      NaN      NaN    532.000000   \n",
       "\n",
       "       overall_satisfaction  accommodates      bedrooms  bathrooms  \\\n",
       "count          18660.000000  18660.000000  18660.000000        0.0   \n",
       "mean               3.303778      2.921543      1.431833        NaN   \n",
       "std                2.213003      1.319141      0.880145        NaN   \n",
       "min                0.000000      1.000000      0.000000        NaN   \n",
       "25%                0.000000      2.000000      1.000000        NaN   \n",
       "50%                4.500000      2.000000      1.000000        NaN   \n",
       "75%                5.000000      4.000000      2.000000        NaN   \n",
       "max                5.000000     17.000000     10.000000        NaN   \n",
       "\n",
       "              price  minstay      latitude     longitude  \n",
       "count  18660.000000      0.0  18660.000000  18660.000000  \n",
       "mean     166.811897      NaN     52.365261      4.888606  \n",
       "std      108.961385      NaN      0.015141      0.034530  \n",
       "min       12.000000      NaN     52.296200      4.763264  \n",
       "25%      108.000000      NaN     52.355252      4.864372  \n",
       "50%      144.000000      NaN     52.364623      4.885995  \n",
       "75%      192.000000      NaN     52.374789      4.907502  \n",
       "max     6000.000000      NaN     52.424980      5.027689  "
      ]
     },
     "execution_count": 12,
     "metadata": {},
     "output_type": "execute_result"
    }
   ],
   "source": [
    "df.describe()"
   ]
  },
  {
   "cell_type": "markdown",
   "metadata": {},
   "source": [
    "# What is the satisfaction ratings count where bedrooms is 3 ?"
   ]
  },
  {
   "cell_type": "code",
   "execution_count": 13,
   "metadata": {
    "scrolled": true
   },
   "outputs": [
    {
     "data": {
      "text/plain": [
       "0.0    635\n",
       "5.0    515\n",
       "4.5    266\n",
       "4.0     22\n",
       "3.5      5\n",
       "2.5      1\n",
       "Name: overall_satisfaction, dtype: int64"
      ]
     },
     "execution_count": 13,
     "metadata": {},
     "output_type": "execute_result"
    }
   ],
   "source": [
    "beds_3 = df.set_index('bedrooms').loc[3]\n",
    "\n",
    "#df.groupby(['bedrooms']).filter(lambda x: len(x['reviews'][3]))\n",
    "#df.groupby(['bedrooms']).sum()['reviews']\n",
    "beds_3['overall_satisfaction'].value_counts()\n"
   ]
  },
  {
   "cell_type": "markdown",
   "metadata": {},
   "source": [
    "## `another method`"
   ]
  },
  {
   "cell_type": "code",
   "execution_count": 42,
   "metadata": {},
   "outputs": [
    {
     "data": {
      "text/plain": [
       "0.0    635\n",
       "5.0    515\n",
       "4.5    266\n",
       "4.0     22\n",
       "3.5      5\n",
       "2.5      1\n",
       "Name: overall_satisfaction, dtype: int64"
      ]
     },
     "execution_count": 42,
     "metadata": {},
     "output_type": "execute_result"
    }
   ],
   "source": [
    "df[(df['bedrooms'] == 3)]['overall_satisfaction'].value_counts()"
   ]
  },
  {
   "cell_type": "markdown",
   "metadata": {},
   "source": [
    "# What is the satisfaction ratings count where bedrooms is 2 ?"
   ]
  },
  {
   "cell_type": "code",
   "execution_count": 14,
   "metadata": {},
   "outputs": [
    {
     "data": {
      "text/plain": [
       "5.0    1787\n",
       "0.0    1487\n",
       "4.5    1033\n",
       "4.0     127\n",
       "3.5      16\n",
       "3.0       6\n",
       "Name: overall_satisfaction, dtype: int64"
      ]
     },
     "execution_count": 14,
     "metadata": {},
     "output_type": "execute_result"
    }
   ],
   "source": [
    "beds_2 = df.set_index('bedrooms').loc[2]\n",
    "beds_2['overall_satisfaction'].value_counts()\n"
   ]
  },
  {
   "cell_type": "markdown",
   "metadata": {},
   "source": [
    "## `another method`"
   ]
  },
  {
   "cell_type": "code",
   "execution_count": 41,
   "metadata": {},
   "outputs": [
    {
     "data": {
      "text/plain": [
       "5.0    1787\n",
       "0.0    1487\n",
       "4.5    1033\n",
       "4.0     127\n",
       "3.5      16\n",
       "3.0       6\n",
       "Name: overall_satisfaction, dtype: int64"
      ]
     },
     "execution_count": 41,
     "metadata": {},
     "output_type": "execute_result"
    }
   ],
   "source": [
    "df[(df['bedrooms'] == 2)]['overall_satisfaction'].value_counts()"
   ]
  },
  {
   "cell_type": "markdown",
   "metadata": {},
   "source": [
    "## What is the satisfaction ratings count where price is `>= $150 and <= $180` ?"
   ]
  },
  {
   "cell_type": "code",
   "execution_count": 40,
   "metadata": {},
   "outputs": [
    {
     "data": {
      "text/plain": [
       "5.0    1634\n",
       "0.0    1169\n",
       "4.5     881\n",
       "4.0     104\n",
       "3.5      12\n",
       "3.0       4\n",
       "Name: overall_satisfaction, dtype: int64"
      ]
     },
     "execution_count": 40,
     "metadata": {},
     "output_type": "execute_result"
    }
   ],
   "source": [
    "df[(df['price'] >= 150) & (df['price'] <= 180)]['overall_satisfaction'].value_counts()\n"
   ]
  },
  {
   "cell_type": "code",
   "execution_count": 22,
   "metadata": {},
   "outputs": [
    {
     "data": {
      "text/plain": [
       "price\n",
       "119     3184.5\n",
       "180     3094.5\n",
       "144     2845.5\n",
       "150     2125.0\n",
       "132     2051.5\n",
       "         ...  \n",
       "534        0.0\n",
       "600        0.0\n",
       "612        0.0\n",
       "659        0.0\n",
       "6000       0.0\n",
       "Name: overall_satisfaction, Length: 419, dtype: float64"
      ]
     },
     "execution_count": 22,
     "metadata": {},
     "output_type": "execute_result"
    }
   ],
   "source": [
    "df.groupby(['price']).apply(lambda x: x )['overall_satisfaction'].sort_values(ascending=False)"
   ]
  },
  {
   "cell_type": "code",
   "execution_count": null,
   "metadata": {},
   "outputs": [],
   "source": []
  },
  {
   "cell_type": "code",
   "execution_count": null,
   "metadata": {},
   "outputs": [],
   "source": []
  }
 ],
 "metadata": {
  "kernelspec": {
   "display_name": "Python 3",
   "language": "python",
   "name": "python3"
  },
  "language_info": {
   "codemirror_mode": {
    "name": "ipython",
    "version": 3
   },
   "file_extension": ".py",
   "mimetype": "text/x-python",
   "name": "python",
   "nbconvert_exporter": "python",
   "pygments_lexer": "ipython3",
   "version": "3.7.10"
  }
 },
 "nbformat": 4,
 "nbformat_minor": 4
}
